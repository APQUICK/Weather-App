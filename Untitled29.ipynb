{
 "cells": [
  {
   "cell_type": "code",
   "execution_count": 1,
   "id": "32247d15",
   "metadata": {},
   "outputs": [
    {
     "name": "stdout",
     "output_type": "stream",
     "text": [
      "Requirement already satisfied: geopy in c:\\users\\user\\anaconda3\\lib\\site-packages (2.4.1)\n",
      "Requirement already satisfied: geographiclib<3,>=1.52 in c:\\users\\user\\anaconda3\\lib\\site-packages (from geopy) (2.0)\n"
     ]
    }
   ],
   "source": [
    "!pip install geopy"
   ]
  },
  {
   "cell_type": "code",
   "execution_count": 2,
   "id": "b5d761fd",
   "metadata": {},
   "outputs": [
    {
     "name": "stdout",
     "output_type": "stream",
     "text": [
      "Requirement already satisfied: timezonefinder in c:\\users\\user\\anaconda3\\lib\\site-packages (6.5.7)\n",
      "Requirement already satisfied: cffi<2,>=1.15.1 in c:\\users\\user\\anaconda3\\lib\\site-packages (from timezonefinder) (1.15.1)\n",
      "Requirement already satisfied: h3>4 in c:\\users\\user\\anaconda3\\lib\\site-packages (from timezonefinder) (4.1.2)\n",
      "Requirement already satisfied: numpy<3,>=1.23 in c:\\users\\user\\anaconda3\\lib\\site-packages (from timezonefinder) (1.24.3)\n",
      "Requirement already satisfied: pycparser in c:\\users\\user\\anaconda3\\lib\\site-packages (from cffi<2,>=1.15.1->timezonefinder) (2.21)\n"
     ]
    }
   ],
   "source": [
    "!pip install timezonefinder"
   ]
  },
  {
   "cell_type": "code",
   "execution_count": 3,
   "id": "c8de1040",
   "metadata": {},
   "outputs": [
    {
     "name": "stdout",
     "output_type": "stream",
     "text": [
      "Requirement already satisfied: pytz in c:\\users\\user\\anaconda3\\lib\\site-packages (2023.3.post1)\n"
     ]
    }
   ],
   "source": [
    "!pip install pytz"
   ]
  },
  {
   "cell_type": "code",
   "execution_count": 4,
   "id": "71e4eb43",
   "metadata": {},
   "outputs": [],
   "source": [
    "from tkinter import *\n",
    "import tkinter as tk\n",
    "from geopy.geocoders import Nominatim\n",
    "from tkinter import ttk,messagebox\n",
    "from timezonefinder import TimezoneFinder\n",
    "from datetime import datetime\n",
    "import requests\n",
    "import pytz\n",
    "import time\n",
    "time.sleep(1) "
   ]
  },
  {
   "cell_type": "code",
   "execution_count": 5,
   "id": "90c4f9b2",
   "metadata": {},
   "outputs": [],
   "source": [
    "def getWeather():\n",
    "    try:\n",
    "        city = textfield.get()\n",
    "        geolocator = Nominatim(user_agent=\"myweatherapp_user@example.com\")\n",
    "        location = geolocator.geocode(city)\n",
    "        if not location:\n",
    "            name.config(text=\"City not found!\")\n",
    "            return\n",
    "\n",
    "        obj = TimezoneFinder()\n",
    "        result = obj.timezone_at(lng=location.longitude, lat=location.latitude)\n",
    "\n",
    "        home = pytz.timezone(result)\n",
    "        local_time = datetime.now(home)\n",
    "        current_time = local_time.strftime(\"%I:%M %p\")\n",
    "        clock.config(text=current_time)\n",
    "        name.config(text=\"CURRENT WEATHER\")\n",
    "        \n",
    "        # Fetch weather data from OpenWeatherMap API\n",
    "        api_key = \"7cb241f4b29eb5e81142f1d65f601ce8\"\n",
    "        api_url = f\"http://api.openweathermap.org/data/2.5/weather?q={city}&appid={api_key}\"\n",
    "        response = requests.get(api_url)\n",
    "        json_data = response.json()\n",
    "\n",
    "        if response.status_code != 200:\n",
    "            name.config(text=\"Invalid city or API error!\")\n",
    "            return\n",
    "\n",
    "        # Extract weather information\n",
    "        condition = json_data['weather'][0]['main']\n",
    "        description = json_data['weather'][0]['description']\n",
    "        temp = int(json_data['main']['temp'] - 273.15)  # Convert Kelvin to Celsius\n",
    "        pressure = json_data['main']['pressure']\n",
    "        humidity = json_data['main']['humidity']\n",
    "        wind = json_data['wind']['speed']\n",
    "\n",
    "        # Update labels with weather data\n",
    "        t.config(text=(temp,\"°C\"))\n",
    "        c.config(text=(condition,\"|\",\"FEELS\",\"LIKE\",temp,\"°C\"))\n",
    "        w1.config(text=wind)\n",
    "        w2.config(text=humidity)\n",
    "        w3.config(text=description)\n",
    "        w4.config(text=pressure)\n",
    "\n",
    "    except GeocoderTimedOut:\n",
    "        name.config(text=\"Service timed out. Try again!\")\n",
    "    except GeocoderServiceError as e:\n",
    "        name.config(text=f\"Error: {e}\")\n",
    "    except Exception as e:\n",
    "        name.config(text=f\"Unexpected error: {e}\")\n",
    "\n",
    "# GUI Elements (abbreviated for readability)\n",
    "root = Tk()\n",
    "root.title(\"Weather App\")\n",
    "root.geometry(\"900x500+300+200\")\n",
    "root.resizable(False, False)\n",
    "\n",
    "textfield = Entry(root, justify=\"center\", width=17, font=(\"poppins\", 25, \"bold\"), bg=\"#404040\", border=0, fg=\"white\")\n",
    "textfield.place(x=50, y=40)\n",
    "textfield.focus()\n",
    "\n",
    "    \n",
    "\n",
    "\n",
    "#search box\n",
    "search_image= PhotoImage(file=\"C:/Users/user/Downloads/search.png\")\n",
    "myimage=Label(image=search_image)\n",
    "myimage.place(x=20,y=20)\n",
    "\n",
    "textfield = tk.Entry(root,justify= \"center\",width=17,font=(\"popins\",25,\"bold\"),bg=\"#404040\",border = 0,fg = \"white\")\n",
    "textfield.place(x=50,y=40)\n",
    "textfield.focus()\n",
    "\n",
    "search_icon=PhotoImage(file=\"C:/Users/user/Downloads/search_icon.png\")\n",
    "myimage_icon= Button(image =search_icon,borderwidth=0,cursor=\"hand2\",bg = \"#404040\",command=getWeather)\n",
    "myimage_icon.place(x=400,y=34)\n",
    "\n",
    "#logo\n",
    "logo_image=PhotoImage(file=\"C:/Users/user/Downloads/logo.png\")\n",
    "logo=Label(image =logo_image)\n",
    "logo.place(x=150,y=100)\n",
    "\n",
    "#bottom box\n",
    "Frame_image= PhotoImage(file=\"C:/Users/user/Downloads/box.png\")\n",
    "frame_myimage= Label(image=Frame_image)\n",
    "frame_myimage.pack(padx=5,pady=5,side=BOTTOM)\n",
    "\n",
    "#time\n",
    "name=Label(root,font=(\"arial\",15,\"bold\"))\n",
    "name.place(x=30,y=100)\n",
    "clock=Label(root,font=(\"Helvetica\",20))\n",
    "clock.place(x=40,y=130)\n",
    "\n",
    "#LABELDESCRIPTION\n",
    "label1=Label(root,text=\"WIND\",font=(\"Helvetica\",15,'bold'),fg=\"white\",bg=\"#1ab5ef\")\n",
    "label1.place(x=120,y=400)\n",
    "\n",
    "label2=Label(root,text=\"HUMIDITY\",font=(\"Helvetica\",15,'bold'),fg=\"white\",bg=\"#1ab5ef\")\n",
    "label2.place(x=250,y=400)\n",
    "\n",
    "label3=Label(root,text=\"DESCRIPTION\",font=(\"Helvetica\",15,'bold'),fg=\"white\",bg=\"#1ab5ef\")\n",
    "label3.place(x=430,y=400)\n",
    "\n",
    "label4=Label(root,text=\"PRESSURE\",font=(\"Helvetica\",15,'bold'),fg=\"white\",bg=\"#1ab5ef\")\n",
    "label4.place(x=650,y=400)\n",
    "t=Label(font=(\"arial\",70,\"bold\"),fg=\"#ee666d\")\n",
    "t.place(x=400,y=150)\n",
    "c=Label(font=(\"arial\",15,'bold'))\n",
    "c.place(x=400,y=250)\n",
    "\n",
    "w1=Label(text=\"...\",font=(\"arial\",20,\"bold\"),bg=\"#1ab5ef\")\n",
    "w1.place(x=120,y=430)\n",
    "\n",
    "w2=Label(text=\"...\",font=(\"arial\",20,\"bold\"),bg=\"#1ab5ef\")\n",
    "w2.place(x=280,y=430)\n",
    "\n",
    "w3=Label(text=\"...\",font=(\"arial\",20,\"bold\"),bg=\"#1ab5ef\")\n",
    "w3.place(x=450,y=430)\n",
    "\n",
    "w4=Label(text=\"...\",font=(\"arial\",20,\"bold\"),bg=\"#1ab5ef\")\n",
    "w4.place(x=650,y=430)\n",
    "root.mainloop()"
   ]
  },
  {
   "cell_type": "markdown",
   "id": "f162e4f4",
   "metadata": {},
   "source": []
  }
 ],
 "metadata": {
  "kernelspec": {
   "display_name": "Python 3 (ipykernel)",
   "language": "python",
   "name": "python3"
  },
  "language_info": {
   "codemirror_mode": {
    "name": "ipython",
    "version": 3
   },
   "file_extension": ".py",
   "mimetype": "text/x-python",
   "name": "python",
   "nbconvert_exporter": "python",
   "pygments_lexer": "ipython3",
   "version": "3.11.5"
  }
 },
 "nbformat": 4,
 "nbformat_minor": 5
}
